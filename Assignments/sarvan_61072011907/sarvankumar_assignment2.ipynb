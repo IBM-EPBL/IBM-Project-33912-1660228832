
# Assignment_2
## 1.Download the dataset
import numpy as np
import pandas as pd
import seaborn as sns
import matplotlib.pyplot as plt
import sklearn
## 2 Load the data set
data = pd.read_csv(r"C:\Users\shalini\Downloads\Untitled Folder\Churn_Modelling.csv")
print(data)
## 3.perform Below visualizations
### -> univariate analysis
sns.distplot(data['Age'])
sns.histplot(data['Age'])
sns.boxplot(data['Age'])
### -> Bivariate Analysis
sns.lineplot(data['Age'], data['EstimatedSalary'])
sns.barplot(data['Age'], data['EstimatedSalary'])
plt.figure(figsize=(50,50))
sns.barplot(data['Age'], data['Balance'])
### Multi-variate Analysis
sns.scatterplot(data['Age'], data['Balance'], hue = data['Gender'])
sns.pairplot(data)
## 4.Perform descriptive statistics on the dataset.
data.mean()
data.mode()
data.median()
data.std()
data['Age'].mean()
## 5.Handle the Missing values
data.isnull().any()
data.isnull().sum()
## 6.Find the outliers and replace the outliers
sns.boxplot(data['Balance'])
q  = data.quantile([1.0,0.25])
q
sam =  q.iloc[0] - q.iloc[1]
sam
a = q.iloc[0] + (1.5*sam)
a
b = q.iloc[1] - (1.5*sam)
b
sns.boxplot(data['Balance'])
# 7, check for categorical columns and perform encoding
from sklearn.preprocessing import LabelEncoder, OneHotEncoder
le = LabelEncoder()
oneh = OneHotEncoder()
data['Gender'] = le.fit_transform(data['Gender'])
data.head()
data['IsActiveMember'] = le.fit_transform(data['IsActiveMember'])
data['Geography'] = le.fit_transform(data['Geography'])
data.head()
## 8.split the data in m and p
y = data["Surname"]
x=data.drop(columns=["Surname"],axis=1)
x.head()
# 9.scaling the independent variables
names=x.columns
names
from sklearn.preprocessing import scale
X=scale(x)
X
x = pd.DataFrame(X,columns = names )
x
# 10. Split the data into training and testing
from sklearn.model_selection import train_test_split
x_train,x_test,y_train,y_test=train_test_split(x,y,test_size=0.2,random_state=0)
x_train.head()
x_train.shape,y_train.shape,x_test.shape,y_test.shape
